{
 "cells": [
  {
   "cell_type": "markdown",
   "metadata": {},
   "source": [
    "# IpyWidgets"
   ]
  },
  {
   "cell_type": "markdown",
   "metadata": {},
   "source": [
    "<div class=\"alert alert-info\" style=\"margin: 20px\">\n",
    "The one of the best things about jupyter notebook is its interactive nature. With widgets, ,it becomes even more interactive</div>"
   ]
  },
  {
   "cell_type": "markdown",
   "metadata": {},
   "source": [
    "## Introduction"
   ]
  },
  {
   "cell_type": "markdown",
   "metadata": {},
   "source": [
    "### First level of Abstraction"
   ]
  },
  {
   "cell_type": "markdown",
   "metadata": {},
   "source": [
    "* Suppose we are investigating square of some value, we can do it like:"
   ]
  },
  {
   "cell_type": "code",
   "execution_count": 1,
   "metadata": {},
   "outputs": [
    {
     "data": {
      "text/plain": [
       "121"
      ]
     },
     "execution_count": 1,
     "metadata": {},
     "output_type": "execute_result"
    }
   ],
   "source": [
    "11 * 11"
   ]
  },
  {
   "cell_type": "code",
   "execution_count": 2,
   "metadata": {},
   "outputs": [
    {
     "data": {
      "text/plain": [
       "100"
      ]
     },
     "execution_count": 2,
     "metadata": {},
     "output_type": "execute_result"
    }
   ],
   "source": [
    "10 * 10"
   ]
  },
  {
   "cell_type": "markdown",
   "metadata": {},
   "source": [
    "* But if we want to achive that with less code we can do it like:"
   ]
  },
  {
   "cell_type": "code",
   "execution_count": 7,
   "metadata": {},
   "outputs": [],
   "source": [
    "x = 12"
   ]
  },
  {
   "cell_type": "code",
   "execution_count": 8,
   "metadata": {},
   "outputs": [
    {
     "data": {
      "text/plain": [
       "144"
      ]
     },
     "execution_count": 8,
     "metadata": {},
     "output_type": "execute_result"
    }
   ],
   "source": [
    "x * x"
   ]
  },
  {
   "cell_type": "code",
   "execution_count": 5,
   "metadata": {},
   "outputs": [],
   "source": [
    "x = 11"
   ]
  },
  {
   "cell_type": "code",
   "execution_count": 9,
   "metadata": {},
   "outputs": [
    {
     "data": {
      "text/plain": [
       "144"
      ]
     },
     "execution_count": 9,
     "metadata": {},
     "output_type": "execute_result"
    }
   ],
   "source": [
    "x * x"
   ]
  },
  {
   "cell_type": "markdown",
   "metadata": {},
   "source": [
    "* Or we can define a function for that(which will be our first level of abstraction)"
   ]
  },
  {
   "cell_type": "code",
   "execution_count": 10,
   "metadata": {},
   "outputs": [],
   "source": [
    "def f(x):\n",
    "    return x * x"
   ]
  },
  {
   "cell_type": "code",
   "execution_count": 11,
   "metadata": {},
   "outputs": [
    {
     "data": {
      "text/plain": [
       "9"
      ]
     },
     "execution_count": 11,
     "metadata": {},
     "output_type": "execute_result"
    }
   ],
   "source": [
    "f(3)"
   ]
  },
  {
   "cell_type": "code",
   "execution_count": 12,
   "metadata": {},
   "outputs": [
    {
     "data": {
      "text/plain": [
       "16"
      ]
     },
     "execution_count": 12,
     "metadata": {},
     "output_type": "execute_result"
    }
   ],
   "source": [
    "f(4)"
   ]
  },
  {
   "cell_type": "markdown",
   "metadata": {},
   "source": [
    "### Hmm, what about more interactive approach?"
   ]
  },
  {
   "cell_type": "markdown",
   "metadata": {},
   "source": [
    "<div class=\"alert alert-info\" style=\"margin: 20px\">\n",
    "We used square function as an abstraction but it can be better. What if instead of changing value by hand and re-run the method each time, we could dynamically change the value and see the corresponding output ?\n",
    "</div>"
   ]
  },
  {
   "cell_type": "markdown",
   "metadata": {},
   "source": [
    "<div class=\"alert alert-block alert-success\" style=\"margin: 20px\">\n",
    "Well, we can do that with widgets!\n",
    "</div>"
   ]
  },
  {
   "cell_type": "code",
   "execution_count": 13,
   "metadata": {},
   "outputs": [],
   "source": [
    "from ipywidgets import *"
   ]
  },
  {
   "cell_type": "code",
   "execution_count": 14,
   "metadata": {},
   "outputs": [
    {
     "data": {
      "application/vnd.jupyter.widget-view+json": {
       "model_id": "f91407f67f334a84ac132c17ed0aff90",
       "version_major": 2,
       "version_minor": 0
      },
      "text/plain": [
       "interactive(children=(IntSlider(value=10, description='x', max=20), Output()), _dom_classes=('widget-interact'…"
      ]
     },
     "metadata": {},
     "output_type": "display_data"
    }
   ],
   "source": [
    "interact(f, x = (0, 20));"
   ]
  },
  {
   "cell_type": "markdown",
   "metadata": {},
   "source": [
    "* Computers are fast, humans aren't. Every time we re-type values, it will be slow. So widget abstraction makes it faster for us to interact with code"
   ]
  },
  {
   "cell_type": "markdown",
   "metadata": {},
   "source": [
    "### What are widgets ?"
   ]
  },
  {
   "cell_type": "markdown",
   "metadata": {},
   "source": [
    "<div class=\"alert alert-info\" style=\"margin: 20px\">\n",
    "Widgets are objects that enable us to control/change values using visual objects, like slider. </div>\n",
    "\n",
    "\n"
   ]
  },
  {
   "cell_type": "code",
   "execution_count": 14,
   "metadata": {},
   "outputs": [],
   "source": [
    "??FloatSlider"
   ]
  },
  {
   "cell_type": "code",
   "execution_count": 15,
   "metadata": {},
   "outputs": [],
   "source": [
    "slider = FloatSlider(value=10.0, min=5.0, max=20.0, step=0.1, description=\"Value:\")"
   ]
  },
  {
   "cell_type": "code",
   "execution_count": 17,
   "metadata": {},
   "outputs": [
    {
     "data": {
      "application/vnd.jupyter.widget-view+json": {
       "model_id": "f9124472a6344012aeeaf9724150a080",
       "version_major": 2,
       "version_minor": 0
      },
      "text/plain": [
       "FloatSlider(value=18.8, description='Value:', max=20.0, min=5.0)"
      ]
     },
     "metadata": {},
     "output_type": "display_data"
    }
   ],
   "source": [
    "slider"
   ]
  },
  {
   "cell_type": "markdown",
   "metadata": {},
   "source": [
    "* You can display same widget object multiple times, but since they are same objects, their values will be same too"
   ]
  },
  {
   "cell_type": "code",
   "execution_count": 18,
   "metadata": {},
   "outputs": [
    {
     "data": {
      "application/vnd.jupyter.widget-view+json": {
       "model_id": "f9124472a6344012aeeaf9724150a080",
       "version_major": 2,
       "version_minor": 0
      },
      "text/plain": [
       "FloatSlider(value=18.8, description='Value:', max=20.0, min=5.0)"
      ]
     },
     "metadata": {},
     "output_type": "display_data"
    }
   ],
   "source": [
    "slider"
   ]
  },
  {
   "cell_type": "markdown",
   "metadata": {},
   "source": [
    "#### .value"
   ]
  },
  {
   "cell_type": "markdown",
   "metadata": {},
   "source": [
    "* We can access value of the widget as:"
   ]
  },
  {
   "cell_type": "code",
   "execution_count": 20,
   "metadata": {},
   "outputs": [
    {
     "data": {
      "text/plain": [
       "13.1"
      ]
     },
     "execution_count": 20,
     "metadata": {},
     "output_type": "execute_result"
    }
   ],
   "source": [
    "slider.value"
   ]
  },
  {
   "cell_type": "markdown",
   "metadata": {},
   "source": [
    "* You can also change the value of slider, the value on visual slider will change accordingly"
   ]
  },
  {
   "cell_type": "code",
   "execution_count": 21,
   "metadata": {},
   "outputs": [
    {
     "data": {
      "application/vnd.jupyter.widget-view+json": {
       "model_id": "f9124472a6344012aeeaf9724150a080",
       "version_major": 2,
       "version_minor": 0
      },
      "text/plain": [
       "FloatSlider(value=13.1, description='Value:', max=20.0, min=5.0)"
      ]
     },
     "metadata": {},
     "output_type": "display_data"
    }
   ],
   "source": [
    "slider"
   ]
  },
  {
   "cell_type": "code",
   "execution_count": 23,
   "metadata": {},
   "outputs": [],
   "source": [
    "slider.value = 12"
   ]
  },
  {
   "cell_type": "markdown",
   "metadata": {},
   "source": [
    "#### Linking two Widgets"
   ]
  },
  {
   "cell_type": "code",
   "execution_count": 28,
   "metadata": {},
   "outputs": [],
   "source": [
    "widget2 = FloatText(description=\"Value\")"
   ]
  },
  {
   "cell_type": "code",
   "execution_count": 29,
   "metadata": {},
   "outputs": [],
   "source": [
    "link((slider,\"value\"), (widget2, \"value\"));"
   ]
  },
  {
   "cell_type": "code",
   "execution_count": 30,
   "metadata": {},
   "outputs": [
    {
     "data": {
      "application/vnd.jupyter.widget-view+json": {
       "model_id": "f9124472a6344012aeeaf9724150a080",
       "version_major": 2,
       "version_minor": 0
      },
      "text/plain": [
       "FloatSlider(value=13.3, description='Value:', max=20.0, min=5.0)"
      ]
     },
     "metadata": {},
     "output_type": "display_data"
    }
   ],
   "source": [
    "slider"
   ]
  },
  {
   "cell_type": "code",
   "execution_count": 31,
   "metadata": {},
   "outputs": [
    {
     "data": {
      "application/vnd.jupyter.widget-view+json": {
       "model_id": "f31a4e2b94084bfab85d0854c083e39a",
       "version_major": 2,
       "version_minor": 0
      },
      "text/plain": [
       "FloatText(value=13.3, description='Value')"
      ]
     },
     "metadata": {},
     "output_type": "display_data"
    }
   ],
   "source": [
    "widget2"
   ]
  },
  {
   "cell_type": "markdown",
   "metadata": {},
   "source": [
    "### Components of ipywidgets"
   ]
  },
  {
   "cell_type": "markdown",
   "metadata": {},
   "source": [
    "<div class=\"alert alert-info\" style=\"margin: 20px\">\n",
    "\n",
    "<b>ipywidgets compose of:</b>\n",
    "\n",
    "1) Python (runs in the background)\n",
    "\n",
    "2) Javascript (runs in the browser)</div>"
   ]
  },
  {
   "cell_type": "markdown",
   "metadata": {},
   "source": [
    "<div class=\"alert alert-info\" style=\"margin: 20px\">\n",
    "In this lesson we will only focus on writing widgets in python\n",
    "</div>"
   ]
  },
  {
   "cell_type": "markdown",
   "metadata": {},
   "source": [
    "## `interact`"
   ]
  },
  {
   "cell_type": "markdown",
   "metadata": {},
   "source": [
    "<div class=\"alert alert-info\" style=\"margin: 20px\">\n",
    "Interact function creates user linterface controls automatically without writing our own widgets etc. . So it is a good place to start exploring widgets\n",
    "</div>"
   ]
  },
  {
   "cell_type": "code",
   "execution_count": 32,
   "metadata": {},
   "outputs": [],
   "source": [
    "from ipywidgets import interact, interactive, fixed, interact_manual\n",
    "import ipywidgets as widgets"
   ]
  },
  {
   "cell_type": "markdown",
   "metadata": {},
   "source": [
    "* It creates UI controls (like slider, textbox etc.) and calls the function that we give it with those interactive arguments."
   ]
  },
  {
   "cell_type": "code",
   "execution_count": 38,
   "metadata": {},
   "outputs": [],
   "source": [
    "def f(x):\n",
    "    return x * 5"
   ]
  },
  {
   "cell_type": "code",
   "execution_count": 39,
   "metadata": {},
   "outputs": [
    {
     "data": {
      "application/vnd.jupyter.widget-view+json": {
       "model_id": "e42ddd7a64af46d2831ffd68fa63d3e1",
       "version_major": 2,
       "version_minor": 0
      },
      "text/plain": [
       "interactive(children=(IntSlider(value=4, description='x', max=12, min=-4), Output()), _dom_classes=('widget-in…"
      ]
     },
     "metadata": {},
     "output_type": "display_data"
    }
   ],
   "source": [
    "interact(f, x=4);"
   ]
  },
  {
   "cell_type": "markdown",
   "metadata": {},
   "source": [
    "* We gave integer value (x=4), so interact created integer slider"
   ]
  },
  {
   "cell_type": "markdown",
   "metadata": {},
   "source": [
    "* We can also give it like:"
   ]
  },
  {
   "cell_type": "code",
   "execution_count": 48,
   "metadata": {},
   "outputs": [
    {
     "data": {
      "application/vnd.jupyter.widget-view+json": {
       "model_id": "986ef31a493542178886c3a0401b037a",
       "version_major": 2,
       "version_minor": 0
      },
      "text/plain": [
       "interactive(children=(IntSlider(value=7, description='x', max=10, min=4), Output()), _dom_classes=('widget-int…"
      ]
     },
     "metadata": {},
     "output_type": "display_data"
    }
   ],
   "source": [
    "interact(f, x=(4,10));"
   ]
  },
  {
   "cell_type": "code",
   "execution_count": 49,
   "metadata": {},
   "outputs": [
    {
     "data": {
      "application/vnd.jupyter.widget-view+json": {
       "model_id": "ecaa310da3bd451aa56f450c53a2c75a",
       "version_major": 2,
       "version_minor": 0
      },
      "text/plain": [
       "interactive(children=(IntSlider(value=6, description='x', max=10, min=4, step=2), Output()), _dom_classes=('wi…"
      ]
     },
     "metadata": {},
     "output_type": "display_data"
    }
   ],
   "source": [
    "interact(f, x=(4,10,2));"
   ]
  },
  {
   "cell_type": "markdown",
   "metadata": {},
   "source": [
    "* If we gave True or False, it would generate checkbox"
   ]
  },
  {
   "cell_type": "code",
   "execution_count": 47,
   "metadata": {},
   "outputs": [
    {
     "data": {
      "application/vnd.jupyter.widget-view+json": {
       "model_id": "f2bdd78b2b2f4faa928778a26cd31a75",
       "version_major": 2,
       "version_minor": 0
      },
      "text/plain": [
       "interactive(children=(Checkbox(value=True, description='x'), Output()), _dom_classes=('widget-interact',))"
      ]
     },
     "metadata": {},
     "output_type": "display_data"
    }
   ],
   "source": [
    "interact(f, x=True);"
   ]
  },
  {
   "cell_type": "markdown",
   "metadata": {},
   "source": [
    "* And textbox for string:"
   ]
  },
  {
   "cell_type": "code",
   "execution_count": 60,
   "metadata": {},
   "outputs": [
    {
     "data": {
      "application/vnd.jupyter.widget-view+json": {
       "model_id": "b8f0d9b0a92944978e6d0eab6c37931c",
       "version_major": 2,
       "version_minor": 0
      },
      "text/plain": [
       "interactive(children=(Text(value='Hey', description='x'), Output()), _dom_classes=('widget-interact',))"
      ]
     },
     "metadata": {},
     "output_type": "display_data"
    },
    {
     "data": {
      "text/plain": [
       "<function __main__.f(x)>"
      ]
     },
     "execution_count": 60,
     "metadata": {},
     "output_type": "execute_result"
    }
   ],
   "source": [
    "interact(f, x=\"Hey\")"
   ]
  },
  {
   "cell_type": "markdown",
   "metadata": {},
   "source": [
    "### Using interact as a decorator"
   ]
  },
  {
   "cell_type": "code",
   "execution_count": 52,
   "metadata": {},
   "outputs": [
    {
     "data": {
      "application/vnd.jupyter.widget-view+json": {
       "model_id": "a50840fa8c97488f88bf1aa11a126879",
       "version_major": 2,
       "version_minor": 0
      },
      "text/plain": [
       "interactive(children=(IntSlider(value=5, description='x', max=15, min=-5), FloatSlider(value=3.0, description=…"
      ]
     },
     "metadata": {},
     "output_type": "display_data"
    }
   ],
   "source": [
    "@interact(x=5, y=3.0)\n",
    "def g(x, y):\n",
    "    return(x + y)"
   ]
  },
  {
   "cell_type": "markdown",
   "metadata": {},
   "source": [
    "### Why do we put ; at the end"
   ]
  },
  {
   "cell_type": "markdown",
   "metadata": {},
   "source": [
    "* We are putting ; at the end to surpress the display of function output. interact gives function output because output of interact is a function, like:"
   ]
  },
  {
   "cell_type": "code",
   "execution_count": 54,
   "metadata": {},
   "outputs": [],
   "source": [
    "def twice(func):\n",
    "    def wrapper():\n",
    "        func()\n",
    "        func()\n",
    "    return wrapper"
   ]
  },
  {
   "cell_type": "code",
   "execution_count": 55,
   "metadata": {},
   "outputs": [],
   "source": [
    "def say_hey():\n",
    "    print(\"hey\")"
   ]
  },
  {
   "cell_type": "code",
   "execution_count": 56,
   "metadata": {},
   "outputs": [],
   "source": [
    "a = say_hey"
   ]
  },
  {
   "cell_type": "code",
   "execution_count": 58,
   "metadata": {},
   "outputs": [
    {
     "data": {
      "text/plain": [
       "<function __main__.twice.<locals>.wrapper()>"
      ]
     },
     "execution_count": 58,
     "metadata": {},
     "output_type": "execute_result"
    }
   ],
   "source": [
    "twice(a)"
   ]
  },
  {
   "cell_type": "code",
   "execution_count": 59,
   "metadata": {},
   "outputs": [
    {
     "name": "stdout",
     "output_type": "stream",
     "text": [
      "hey\n",
      "hey\n"
     ]
    }
   ],
   "source": [
    "twice(a)()"
   ]
  },
  {
   "cell_type": "markdown",
   "metadata": {},
   "source": [
    "### Passing Widget Explicitly"
   ]
  },
  {
   "cell_type": "code",
   "execution_count": 78,
   "metadata": {},
   "outputs": [],
   "source": [
    "s = widgets.IntSlider(min = -5, max = 20, step = 2, value = 10)"
   ]
  },
  {
   "cell_type": "code",
   "execution_count": 79,
   "metadata": {},
   "outputs": [
    {
     "data": {
      "application/vnd.jupyter.widget-view+json": {
       "model_id": "47b4da44bd154eef885ebc32e9c4adab",
       "version_major": 2,
       "version_minor": 0
      },
      "text/plain": [
       "IntSlider(value=10, max=20, min=-5, step=2)"
      ]
     },
     "metadata": {},
     "output_type": "display_data"
    }
   ],
   "source": [
    "s"
   ]
  },
  {
   "cell_type": "code",
   "execution_count": 80,
   "metadata": {},
   "outputs": [
    {
     "data": {
      "application/vnd.jupyter.widget-view+json": {
       "model_id": "0866c0ca27b84e05aebbc3ea4b479488",
       "version_major": 2,
       "version_minor": 0
      },
      "text/plain": [
       "interactive(children=(IntSlider(value=10, description='x', max=20, min=-5, step=2), Output()), _dom_classes=('…"
      ]
     },
     "metadata": {},
     "output_type": "display_data"
    }
   ],
   "source": [
    "interact(f, x=s);"
   ]
  },
  {
   "cell_type": "markdown",
   "metadata": {},
   "source": [
    "### Giving fixed argument"
   ]
  },
  {
   "cell_type": "code",
   "execution_count": 93,
   "metadata": {},
   "outputs": [],
   "source": [
    "def h(a, b=2):\n",
    "    return a, b"
   ]
  },
  {
   "cell_type": "code",
   "execution_count": 94,
   "metadata": {},
   "outputs": [
    {
     "data": {
      "application/vnd.jupyter.widget-view+json": {
       "model_id": "9799160806de49b39dd1ba158dabb469",
       "version_major": 2,
       "version_minor": 0
      },
      "text/plain": [
       "interactive(children=(IntSlider(value=4, description='a', max=12, min=-4), IntSlider(value=2, description='b',…"
      ]
     },
     "metadata": {},
     "output_type": "display_data"
    }
   ],
   "source": [
    "interact(h, a = 4);"
   ]
  },
  {
   "cell_type": "markdown",
   "metadata": {},
   "source": [
    "* If your function has more than one parameter, and you want to create GUI for just few of them, you can use `fixed` for that"
   ]
  },
  {
   "cell_type": "code",
   "execution_count": 95,
   "metadata": {},
   "outputs": [
    {
     "data": {
      "application/vnd.jupyter.widget-view+json": {
       "model_id": "a19869dedb904ae2a223eb2fbd1dc9c6",
       "version_major": 2,
       "version_minor": 0
      },
      "text/plain": [
       "interactive(children=(IntSlider(value=4, description='a', max=12, min=-4), Output()), _dom_classes=('widget-in…"
      ]
     },
     "metadata": {},
     "output_type": "display_data"
    }
   ],
   "source": [
    "interact(h, a = 4, b = fixed(10));"
   ]
  },
  {
   "cell_type": "markdown",
   "metadata": {},
   "source": [
    "### Dropdown Menu"
   ]
  },
  {
   "cell_type": "code",
   "execution_count": 96,
   "metadata": {},
   "outputs": [],
   "source": [
    "def f(x):\n",
    "    return x"
   ]
  },
  {
   "cell_type": "code",
   "execution_count": 97,
   "metadata": {},
   "outputs": [
    {
     "data": {
      "application/vnd.jupyter.widget-view+json": {
       "model_id": "e6fadb60016e4251b1619e35cc6a8d56",
       "version_major": 2,
       "version_minor": 0
      },
      "text/plain": [
       "interactive(children=(Dropdown(description='x', options=('product A', 'Product B'), value='product A'), Output…"
      ]
     },
     "metadata": {},
     "output_type": "display_data"
    }
   ],
   "source": [
    "interact(f, x=[\"product A\", \"Product B\"]);"
   ]
  },
  {
   "cell_type": "markdown",
   "metadata": {},
   "source": [
    "* If we want to know which product value user is giving and then calculate another things with it, we can give it like key, value pair."
   ]
  },
  {
   "cell_type": "markdown",
   "metadata": {},
   "source": [
    "* In this example our function will return the price of the product we are giving"
   ]
  },
  {
   "cell_type": "markdown",
   "metadata": {},
   "source": [
    "* User will see keys, but corresponding values will be passed to the function"
   ]
  },
  {
   "cell_type": "code",
   "execution_count": 98,
   "metadata": {},
   "outputs": [
    {
     "data": {
      "application/vnd.jupyter.widget-view+json": {
       "model_id": "cd114724e5c3416190fd7a6b10b2073f",
       "version_major": 2,
       "version_minor": 0
      },
      "text/plain": [
       "interactive(children=(Dropdown(description='x', options=(('product A', 300), ('Product B', 250)), value=300), …"
      ]
     },
     "metadata": {},
     "output_type": "display_data"
    }
   ],
   "source": [
    "interact(f, x=[(\"product A\", 300), (\"Product B\",250)]);"
   ]
  },
  {
   "cell_type": "markdown",
   "metadata": {},
   "source": [
    "## `interactive`"
   ]
  },
  {
   "cell_type": "markdown",
   "metadata": {},
   "source": [
    "* `interactive` function returns a widget instance. It is useful when we want to reuse the widget that we have created and access to data that is bound to that widget"
   ]
  },
  {
   "cell_type": "code",
   "execution_count": 99,
   "metadata": {},
   "outputs": [
    {
     "data": {
      "application/vnd.jupyter.widget-view+json": {
       "model_id": "5094a903ec7d481dbf2c835f2743a45c",
       "version_major": 2,
       "version_minor": 0
      },
      "text/plain": [
       "interactive(children=(Dropdown(description='x', options=(('product A', 300), ('Product B', 250)), value=300), …"
      ]
     },
     "metadata": {},
     "output_type": "display_data"
    }
   ],
   "source": [
    "a = interact(f, x=[(\"product A\", 300), (\"Product B\",250)]);"
   ]
  },
  {
   "cell_type": "code",
   "execution_count": 100,
   "metadata": {},
   "outputs": [],
   "source": [
    "a = interactive(f, x=[(\"product A\", 300), (\"Product B\",250)]);"
   ]
  },
  {
   "cell_type": "markdown",
   "metadata": {},
   "source": [
    "* Because of interactive does not return a value but a widget instance, return value of the function will not be displayed. We will use `IPython.display.display` to display that."
   ]
  },
  {
   "cell_type": "code",
   "execution_count": 58,
   "metadata": {},
   "outputs": [],
   "source": [
    "from IPython.display import display"
   ]
  },
  {
   "cell_type": "code",
   "execution_count": 101,
   "metadata": {},
   "outputs": [],
   "source": [
    "def f(x, y):\n",
    "    \n",
    "    display(x, y)\n",
    "\n",
    "    return x + y"
   ]
  },
  {
   "cell_type": "code",
   "execution_count": 102,
   "metadata": {},
   "outputs": [],
   "source": [
    "w = interactive(f, x = 5, y = 3)"
   ]
  },
  {
   "cell_type": "markdown",
   "metadata": {},
   "source": [
    "* It is just like `interact`, it creates GUI controls but do not display it "
   ]
  },
  {
   "cell_type": "code",
   "execution_count": 103,
   "metadata": {},
   "outputs": [
    {
     "data": {
      "text/plain": [
       "ipywidgets.widgets.interaction.interactive"
      ]
     },
     "execution_count": 103,
     "metadata": {},
     "output_type": "execute_result"
    }
   ],
   "source": [
    "type(w)"
   ]
  },
  {
   "cell_type": "markdown",
   "metadata": {},
   "source": [
    "### children "
   ]
  },
  {
   "cell_type": "code",
   "execution_count": 105,
   "metadata": {},
   "outputs": [
    {
     "data": {
      "text/plain": [
       "(IntSlider(value=5, description='x', max=15, min=-5),\n",
       " IntSlider(value=3, description='y', max=9, min=-3),\n",
       " Output())"
      ]
     },
     "execution_count": 105,
     "metadata": {},
     "output_type": "execute_result"
    }
   ],
   "source": [
    "w.children"
   ]
  },
  {
   "cell_type": "markdown",
   "metadata": {},
   "source": [
    "### display"
   ]
  },
  {
   "cell_type": "code",
   "execution_count": 106,
   "metadata": {},
   "outputs": [
    {
     "data": {
      "application/vnd.jupyter.widget-view+json": {
       "model_id": "2f062782e37d4d40bbc1ba7b619d72d7",
       "version_major": 2,
       "version_minor": 0
      },
      "text/plain": [
       "interactive(children=(IntSlider(value=5, description='x', max=15, min=-5), IntSlider(value=3, description='y',…"
      ]
     },
     "metadata": {},
     "output_type": "display_data"
    }
   ],
   "source": [
    "display(w)"
   ]
  },
  {
   "cell_type": "markdown",
   "metadata": {},
   "source": [
    "*`Show`: Show what happens when we use `print` instead of `display` in `f`"
   ]
  },
  {
   "cell_type": "code",
   "execution_count": 107,
   "metadata": {},
   "outputs": [],
   "source": [
    "def f(x, y):\n",
    "    \n",
    "    print(x, y)\n",
    "\n",
    "    return x + y"
   ]
  },
  {
   "cell_type": "code",
   "execution_count": 108,
   "metadata": {},
   "outputs": [],
   "source": [
    "w2 = interactive(f, x = 5, y = 3)"
   ]
  },
  {
   "cell_type": "code",
   "execution_count": 112,
   "metadata": {},
   "outputs": [
    {
     "data": {
      "application/vnd.jupyter.widget-view+json": {
       "model_id": "cef937bcf2204015aeb3bb959ee73fcb",
       "version_major": 2,
       "version_minor": 0
      },
      "text/plain": [
       "interactive(children=(IntSlider(value=2, description='x', max=15, min=-5), IntSlider(value=7, description='y',…"
      ]
     },
     "metadata": {},
     "output_type": "display_data"
    }
   ],
   "source": [
    "display(w2)"
   ]
  },
  {
   "cell_type": "markdown",
   "metadata": {},
   "source": [
    "### Accessing parameter values"
   ]
  },
  {
   "cell_type": "code",
   "execution_count": 115,
   "metadata": {},
   "outputs": [
    {
     "data": {
      "text/plain": [
       "{'x': 11, 'y': -2}"
      ]
     },
     "execution_count": 115,
     "metadata": {},
     "output_type": "execute_result"
    }
   ],
   "source": [
    "w2.kwargs"
   ]
  },
  {
   "cell_type": "markdown",
   "metadata": {},
   "source": [
    "### Result of the function"
   ]
  },
  {
   "cell_type": "code",
   "execution_count": 117,
   "metadata": {},
   "outputs": [
    {
     "data": {
      "text/plain": [
       "8"
      ]
     },
     "execution_count": 117,
     "metadata": {},
     "output_type": "execute_result"
    }
   ],
   "source": [
    "w2.result"
   ]
  },
  {
   "cell_type": "markdown",
   "metadata": {},
   "source": [
    "## Interactive Plot"
   ]
  },
  {
   "cell_type": "code",
   "execution_count": 118,
   "metadata": {},
   "outputs": [],
   "source": [
    "import matplotlib.pyplot as plt\n",
    "import numpy as np"
   ]
  },
  {
   "cell_type": "code",
   "execution_count": 119,
   "metadata": {},
   "outputs": [],
   "source": [
    "import random"
   ]
  },
  {
   "cell_type": "markdown",
   "metadata": {},
   "source": [
    "### Example 1"
   ]
  },
  {
   "cell_type": "code",
   "execution_count": 127,
   "metadata": {},
   "outputs": [],
   "source": [
    "def f(n_dots):\n",
    "    x,y=[],[]\n",
    "    for i in range(n_dots):\n",
    "        x.append(random.randint(1,100))\n",
    "        y.append(random.randint(1,100))\n",
    "    plt.scatter(x,y)\n",
    "    \n",
    "    "
   ]
  },
  {
   "cell_type": "code",
   "execution_count": 129,
   "metadata": {},
   "outputs": [],
   "source": [
    "w = interactive(f, n_dots=(1,30))"
   ]
  },
  {
   "cell_type": "markdown",
   "metadata": {},
   "source": [
    "* Changing the name of the slider\n"
   ]
  },
  {
   "cell_type": "code",
   "execution_count": 130,
   "metadata": {},
   "outputs": [
    {
     "data": {
      "text/plain": [
       "(IntSlider(value=15, description='n_dots', max=30, min=1), Output())"
      ]
     },
     "execution_count": 130,
     "metadata": {},
     "output_type": "execute_result"
    }
   ],
   "source": [
    "w.children"
   ]
  },
  {
   "cell_type": "code",
   "execution_count": 138,
   "metadata": {},
   "outputs": [],
   "source": [
    "w.children[0].description = \"# of points\""
   ]
  },
  {
   "cell_type": "code",
   "execution_count": 139,
   "metadata": {},
   "outputs": [
    {
     "data": {
      "application/vnd.jupyter.widget-view+json": {
       "model_id": "d10a5876f9774975b5cc00d248ecaf6e",
       "version_major": 2,
       "version_minor": 0
      },
      "text/plain": [
       "interactive(children=(IntSlider(value=14, description='# of points', max=30, min=1), Output(outputs=({'output_…"
      ]
     },
     "metadata": {},
     "output_type": "display_data"
    }
   ],
   "source": [
    "w"
   ]
  },
  {
   "cell_type": "markdown",
   "metadata": {},
   "source": [
    "### Example 2"
   ]
  },
  {
   "cell_type": "markdown",
   "metadata": {},
   "source": [
    "* We will plot $ax + b$"
   ]
  },
  {
   "cell_type": "code",
   "execution_count": 158,
   "metadata": {},
   "outputs": [],
   "source": [
    "def f2(a, b):\n",
    "    x = np.linspace(-20, 20, num = 2000)\n",
    "    plt.plot(x, a*x + b)\n",
    "    plt.ylim(-20,20)\n",
    "    \n",
    "    "
   ]
  },
  {
   "cell_type": "markdown",
   "metadata": {},
   "source": [
    "* Before interactive, function is just statically calculating the output (in this case there is no return statement, it will just plot with given parameters)"
   ]
  },
  {
   "cell_type": "code",
   "execution_count": 166,
   "metadata": {},
   "outputs": [
    {
     "data": {
      "image/png": "[encoded data removed]",
      "text/plain": [
       "<Figure size 432x288 with 1 Axes>"
      ]
     },
     "metadata": {
      "needs_background": "light"
     },
     "output_type": "display_data"
    }
   ],
   "source": [
    "f2(-2,6)"
   ]
  },
  {
   "cell_type": "code",
   "execution_count": 155,
   "metadata": {},
   "outputs": [
    {
     "data": {
      "image/png": "[encoded data removed]",
      "text/plain": [
       "<Figure size 432x288 with 1 Axes>"
      ]
     },
     "metadata": {
      "needs_background": "light"
     },
     "output_type": "display_data"
    }
   ],
   "source": [
    "f2(0,3)"
   ]
  },
  {
   "cell_type": "code",
   "execution_count": 156,
   "metadata": {},
   "outputs": [],
   "source": [
    "w2 = interactive(f2, a=(-5,5), b = (-10, 10))"
   ]
  },
  {
   "cell_type": "code",
   "execution_count": 157,
   "metadata": {},
   "outputs": [
    {
     "data": {
      "application/vnd.jupyter.widget-view+json": {
       "model_id": "b2fc256c57d74fff8f0b0021ffd239b5",
       "version_major": 2,
       "version_minor": 0
      },
      "text/plain": [
       "interactive(children=(IntSlider(value=0, description='a', max=5, min=-5), IntSlider(value=0, description='b', …"
      ]
     },
     "metadata": {},
     "output_type": "display_data"
    }
   ],
   "source": [
    "w2"
   ]
  },
  {
   "cell_type": "markdown",
   "metadata": {},
   "source": [
    "* Changing the name of the slider"
   ]
  },
  {
   "cell_type": "markdown",
   "metadata": {},
   "source": [
    "## Continuous and Discontinuous Updates"
   ]
  },
  {
   "cell_type": "markdown",
   "metadata": {},
   "source": [
    "<div class=\"alert alert-info\" style=\"margin: 10px\">\n",
    "So far we have only seen continuous update case. That is - when we slide values in slider, it updates for all the values in between. But we may not want to do that and it may be computationally expensive for some cases\n",
    "\n",
    "</div>"
   ]
  },
  {
   "cell_type": "markdown",
   "metadata": {},
   "source": [
    "<div class=\"alert alert-info\" style=\"margin: 10px\">\n",
    "So we will disable continuous updates for that. So it will update our function whenever we press the button or release mouse etc.\n",
    "</div>"
   ]
  },
  {
   "cell_type": "code",
   "execution_count": 169,
   "metadata": {},
   "outputs": [],
   "source": [
    "def f2(a, b):\n",
    "    x = np.linspace(-20, 20, num = 2000)\n",
    "    plt.plot(x, a*x + b)\n",
    "    plt.ylim(-10,10)"
   ]
  },
  {
   "cell_type": "markdown",
   "metadata": {},
   "source": [
    "### First way: `interact_manual`"
   ]
  },
  {
   "cell_type": "code",
   "execution_count": 170,
   "metadata": {},
   "outputs": [
    {
     "data": {
      "application/vnd.jupyter.widget-view+json": {
       "model_id": "8afda742a91c478d9b62e382a406178b",
       "version_major": 2,
       "version_minor": 0
      },
      "text/plain": [
       "interactive(children=(IntSlider(value=0, description='a', max=5, min=-5), IntSlider(value=0, description='b', …"
      ]
     },
     "metadata": {},
     "output_type": "display_data"
    }
   ],
   "source": [
    "interact_manual(f2, a=(-5,5), b = (-10, 10));"
   ]
  },
  {
   "cell_type": "markdown",
   "metadata": {},
   "source": [
    "### Second way: `continuous_update`"
   ]
  },
  {
   "cell_type": "markdown",
   "metadata": {},
   "source": [
    "* For slider widgets we can set `continuous_update` argument to `False`"
   ]
  },
  {
   "cell_type": "markdown",
   "metadata": {},
   "source": [
    "* It will update when we release our mouse"
   ]
  },
  {
   "cell_type": "code",
   "execution_count": 187,
   "metadata": {},
   "outputs": [],
   "source": [
    "a = widgets.IntSlider(min=-5, max=5, continuous_update = False)"
   ]
  },
  {
   "cell_type": "code",
   "execution_count": 188,
   "metadata": {},
   "outputs": [],
   "source": [
    "b = widgets.IntSlider(min=-10, max=10, continuous_update = False)"
   ]
  },
  {
   "cell_type": "code",
   "execution_count": 189,
   "metadata": {},
   "outputs": [],
   "source": [
    "w = interactive(f2, a=a, b = b)"
   ]
  },
  {
   "cell_type": "code",
   "execution_count": 190,
   "metadata": {},
   "outputs": [
    {
     "data": {
      "application/vnd.jupyter.widget-view+json": {
       "model_id": "fca88966c62c48c99312eefde3cb8e55",
       "version_major": 2,
       "version_minor": 0
      },
      "text/plain": [
       "interactive(children=(IntSlider(value=0, continuous_update=False, description='a', max=5, min=-5), IntSlider(v…"
      ]
     },
     "metadata": {},
     "output_type": "display_data"
    }
   ],
   "source": [
    "w"
   ]
  },
  {
   "cell_type": "markdown",
   "metadata": {},
   "source": [
    "* Or:"
   ]
  },
  {
   "cell_type": "code",
   "execution_count": 191,
   "metadata": {},
   "outputs": [],
   "source": [
    "w = interactive(f2, a=(-5,5), b = (-10, 10))"
   ]
  },
  {
   "cell_type": "markdown",
   "metadata": {},
   "source": [
    "* So far we have only seen continuous update case. That is - when we slide values in slider, it updates for all the values in between. But we may not want to do that and it may be computationally expensive for some cases"
   ]
  },
  {
   "cell_type": "code",
   "execution_count": 192,
   "metadata": {},
   "outputs": [
    {
     "data": {
      "text/plain": [
       "(IntSlider(value=0, description='a', max=5, min=-5),\n",
       " IntSlider(value=0, description='b', max=10, min=-10),\n",
       " Output())"
      ]
     },
     "execution_count": 192,
     "metadata": {},
     "output_type": "execute_result"
    }
   ],
   "source": [
    "w.children"
   ]
  },
  {
   "cell_type": "markdown",
   "metadata": {},
   "source": [
    "* So we will disable continuous updates for that. So it will update our function whenever we press the button or release mouse etc."
   ]
  },
  {
   "cell_type": "code",
   "execution_count": 194,
   "metadata": {},
   "outputs": [],
   "source": [
    "w.children[0].continuous_update = False"
   ]
  },
  {
   "cell_type": "code",
   "execution_count": 198,
   "metadata": {},
   "outputs": [
    {
     "data": {
      "application/vnd.jupyter.widget-view+json": {
       "model_id": "9e20178bc7f44fdeb5358cc9778ac2ad",
       "version_major": 2,
       "version_minor": 0
      },
      "text/plain": [
       "interactive(children=(IntSlider(value=-5, continuous_update=False, description='a', max=5, min=-10), IntSlider…"
      ]
     },
     "metadata": {},
     "output_type": "display_data"
    }
   ],
   "source": [
    "w"
   ]
  },
  {
   "cell_type": "code",
   "execution_count": 199,
   "metadata": {},
   "outputs": [],
   "source": [
    "w.children[1].continuous_update = False"
   ]
  },
  {
   "cell_type": "code",
   "execution_count": 200,
   "metadata": {},
   "outputs": [
    {
     "data": {
      "application/vnd.jupyter.widget-view+json": {
       "model_id": "9e20178bc7f44fdeb5358cc9778ac2ad",
       "version_major": 2,
       "version_minor": 0
      },
      "text/plain": [
       "interactive(children=(IntSlider(value=-5, continuous_update=False, description='a', max=5, min=-10), IntSlider…"
      ]
     },
     "metadata": {},
     "output_type": "display_data"
    }
   ],
   "source": [
    "w"
   ]
  },
  {
   "cell_type": "markdown",
   "metadata": {},
   "source": [
    "### Third Way: using dict"
   ]
  },
  {
   "cell_type": "code",
   "execution_count": 207,
   "metadata": {},
   "outputs": [],
   "source": [
    "w = interactive(f2, {\"manual\" : True}, a=(-5,5), b = (-10, 10))"
   ]
  },
  {
   "cell_type": "code",
   "execution_count": 208,
   "metadata": {},
   "outputs": [
    {
     "data": {
      "application/vnd.jupyter.widget-view+json": {
       "model_id": "f842b543a4064bb484ba16582cf70959",
       "version_major": 2,
       "version_minor": 0
      },
      "text/plain": [
       "interactive(children=(IntSlider(value=0, description='a', max=5, min=-5), IntSlider(value=0, description='b', …"
      ]
     },
     "metadata": {},
     "output_type": "display_data"
    }
   ],
   "source": [
    "w"
   ]
  },
  {
   "cell_type": "code",
   "execution_count": 209,
   "metadata": {
    "collapsed": true
   },
   "outputs": [
    {
     "data": {
      "text/plain": [
       "(IntSlider(value=-2, description='a', max=5, min=-5),\n",
       " IntSlider(value=3, description='b', max=10, min=-10),\n",
       " Button(description='Run Interact', style=ButtonStyle()),\n",
       " Output(outputs=({'output_type': 'display_data', 'data': {'text/plain': '<Figure size 432x288 with 1 Axes>', 'image/png': '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\\n'}, 'metadata': {'needs_background': 'light'}},)))"
      ]
     },
     "execution_count": 209,
     "metadata": {},
     "output_type": "execute_result"
    }
   ],
   "source": [
    "w.children"
   ]
  },
  {
   "cell_type": "markdown",
   "metadata": {},
   "source": [
    "* We can change the name of the button as:"
   ]
  },
  {
   "cell_type": "code",
   "execution_count": 210,
   "metadata": {},
   "outputs": [],
   "source": [
    "w = interactive(f2, {\"manual\" : True, \"manual_name\":\"Plot\"}, a=(-5,5), b = (-10, 10))"
   ]
  },
  {
   "cell_type": "code",
   "execution_count": 211,
   "metadata": {},
   "outputs": [
    {
     "data": {
      "application/vnd.jupyter.widget-view+json": {
       "model_id": "db639b87ed69484a86f8677442416cdf",
       "version_major": 2,
       "version_minor": 0
      },
      "text/plain": [
       "interactive(children=(IntSlider(value=0, description='a', max=5, min=-5), IntSlider(value=0, description='b', …"
      ]
     },
     "metadata": {},
     "output_type": "display_data"
    }
   ],
   "source": [
    "w"
   ]
  },
  {
   "cell_type": "markdown",
   "metadata": {},
   "source": [
    "## `interactive_output`"
   ]
  },
  {
   "cell_type": "markdown",
   "metadata": {},
   "source": [
    "* `interactive_output` enables us to have more control over the layout of UI elements."
   ]
  },
  {
   "cell_type": "markdown",
   "metadata": {},
   "source": [
    "* We can create widgets, put it in a box and then pass it to `interactive_output`"
   ]
  },
  {
   "cell_type": "code",
   "execution_count": 213,
   "metadata": {},
   "outputs": [],
   "source": [
    "x = widgets.IntSlider()\n",
    "y = widgets.IntSlider()\n",
    "z = widgets.IntSlider()"
   ]
  },
  {
   "cell_type": "markdown",
   "metadata": {},
   "source": [
    "* Creating box for these widgets"
   ]
  },
  {
   "cell_type": "code",
   "execution_count": 227,
   "metadata": {},
   "outputs": [],
   "source": [
    "box = widgets.VBox([x, y, z])"
   ]
  },
  {
   "cell_type": "code",
   "execution_count": 228,
   "metadata": {},
   "outputs": [
    {
     "data": {
      "application/vnd.jupyter.widget-view+json": {
       "model_id": "251085d7d3434fea904314cf6b8fc719",
       "version_major": 2,
       "version_minor": 0
      },
      "text/plain": [
       "VBox(children=(IntSlider(value=74), IntSlider(value=58), IntSlider(value=46)))"
      ]
     },
     "metadata": {},
     "output_type": "display_data"
    }
   ],
   "source": [
    "box"
   ]
  },
  {
   "cell_type": "code",
   "execution_count": 220,
   "metadata": {},
   "outputs": [],
   "source": [
    "def f(x, y, z):\n",
    "    print(x,y,z)"
   ]
  },
  {
   "cell_type": "markdown",
   "metadata": {},
   "source": [
    "* `interactive_output` is creating output region, and link sliders to arguments of the function "
   ]
  },
  {
   "cell_type": "markdown",
   "metadata": {},
   "source": [
    "* It divides process to  output and control steps"
   ]
  },
  {
   "cell_type": "code",
   "execution_count": 223,
   "metadata": {},
   "outputs": [],
   "source": [
    "out = widgets.interactive_output(f, {\"x\":x, \"y\":y, \"z\":z})"
   ]
  },
  {
   "cell_type": "code",
   "execution_count": 224,
   "metadata": {},
   "outputs": [
    {
     "data": {
      "application/vnd.jupyter.widget-view+json": {
       "model_id": "5e85a7b469ce4ffab3e5c5bae82bcdfa",
       "version_major": 2,
       "version_minor": 0
      },
      "text/plain": [
       "Output(outputs=({'output_type': 'stream', 'text': '61 49 67\\n', 'name': 'stdout'},))"
      ]
     },
     "metadata": {},
     "output_type": "display_data"
    }
   ],
   "source": [
    "out"
   ]
  },
  {
   "cell_type": "code",
   "execution_count": 229,
   "metadata": {},
   "outputs": [
    {
     "data": {
      "application/vnd.jupyter.widget-view+json": {
       "model_id": "251085d7d3434fea904314cf6b8fc719",
       "version_major": 2,
       "version_minor": 0
      },
      "text/plain": [
       "VBox(children=(IntSlider(value=74), IntSlider(value=58), IntSlider(value=46)))"
      ]
     },
     "metadata": {},
     "output_type": "display_data"
    },
    {
     "data": {
      "application/vnd.jupyter.widget-view+json": {
       "model_id": "5e85a7b469ce4ffab3e5c5bae82bcdfa",
       "version_major": 2,
       "version_minor": 0
      },
      "text/plain": [
       "Output(outputs=({'output_type': 'stream', 'text': '74 58 46\\n', 'name': 'stdout'},))"
      ]
     },
     "metadata": {},
     "output_type": "display_data"
    }
   ],
   "source": [
    "display(box, out)"
   ]
  },
  {
   "cell_type": "markdown",
   "metadata": {},
   "source": [
    "## Exercises"
   ]
  },
  {
   "cell_type": "markdown",
   "metadata": {},
   "source": [
    "### 1) Write a function that reverse the string that we gave it. Use widgets to give string interactively"
   ]
  },
  {
   "cell_type": "code",
   "execution_count": 230,
   "metadata": {},
   "outputs": [],
   "source": [
    "def reverse(x):\n",
    "    return x[::-1]"
   ]
  },
  {
   "cell_type": "code",
   "execution_count": 231,
   "metadata": {},
   "outputs": [
    {
     "data": {
      "text/plain": [
       "'yeh'"
      ]
     },
     "execution_count": 231,
     "metadata": {},
     "output_type": "execute_result"
    }
   ],
   "source": [
    "reverse(\"hey\")"
   ]
  },
  {
   "cell_type": "code",
   "execution_count": 232,
   "metadata": {},
   "outputs": [
    {
     "data": {
      "application/vnd.jupyter.widget-view+json": {
       "model_id": "6655a2a1b733442aa5e537e63ce747dd",
       "version_major": 2,
       "version_minor": 0
      },
      "text/plain": [
       "interactive(children=(Text(value='', description='x'), Output()), _dom_classes=('widget-interact',))"
      ]
     },
     "metadata": {},
     "output_type": "display_data"
    }
   ],
   "source": [
    "w = interact(reverse, x=\"\")"
   ]
  },
  {
   "cell_type": "markdown",
   "metadata": {},
   "source": [
    "### 2) Use `interact` as a decorator to make the output of the function below interactive and then disable continuous update:"
   ]
  },
  {
   "cell_type": "code",
   "execution_count": 233,
   "metadata": {},
   "outputs": [],
   "source": [
    "def f(a, b):\n",
    "    x = np.linspace(0, 4 * np.pi)\n",
    "    y = np.cos(a*x + b)\n",
    "    plt.plot(x, y)"
   ]
  },
  {
   "cell_type": "code",
   "execution_count": 234,
   "metadata": {},
   "outputs": [
    {
     "data": {
      "image/png": "[encoded data removed]",
      "text/plain": [
       "<Figure size 432x288 with 1 Axes>"
      ]
     },
     "metadata": {
      "needs_background": "light"
     },
     "output_type": "display_data"
    }
   ],
   "source": [
    "f(4, 3)"
   ]
  },
  {
   "cell_type": "code",
   "execution_count": 235,
   "metadata": {
    "scrolled": true
   },
   "outputs": [
    {
     "data": {
      "application/vnd.jupyter.widget-view+json": {
       "model_id": "2af47318ea4b4f1abebbb48997f2ddc0",
       "version_major": 2,
       "version_minor": 0
      },
      "text/plain": [
       "interactive(children=(IntSlider(value=5, description='a', max=10, min=1), IntSlider(value=5, description='b', …"
      ]
     },
     "metadata": {},
     "output_type": "display_data"
    }
   ],
   "source": [
    "@interact(a=(1,10), b=(0, 10))\n",
    "def f(a, b):\n",
    "    x = np.linspace(0, 4 * np.pi)\n",
    "    y = np.cos(a*x + b)\n",
    "    plt.plot(x, y)"
   ]
  },
  {
   "cell_type": "code",
   "execution_count": 237,
   "metadata": {},
   "outputs": [
    {
     "data": {
      "application/vnd.jupyter.widget-view+json": {
       "model_id": "44a53bfa5ef54fdbbb3d059d11f97c7c",
       "version_major": 2,
       "version_minor": 0
      },
      "text/plain": [
       "interactive(children=(IntSlider(value=5, description='a', max=10, min=1), IntSlider(value=5, description='b', …"
      ]
     },
     "metadata": {},
     "output_type": "display_data"
    }
   ],
   "source": [
    "@interact_manual(a=(1,10), b=(0, 10))\n",
    "def f(a, b):\n",
    "    x = np.linspace(0, 4 * np.pi)\n",
    "    y = np.cos(a*x + b)\n",
    "    plt.plot(x, y)"
   ]
  },
  {
   "cell_type": "code",
   "execution_count": null,
   "metadata": {},
   "outputs": [],
   "source": []
  }
 ],
 "metadata": {
  "kernelspec": {
   "display_name": "Python 3",
   "language": "python",
   "name": "python3"
  },
  "language_info": {
   "codemirror_mode": {
    "name": "ipython",
    "version": 3
   },
   "file_extension": ".py",
   "mimetype": "text/x-python",
   "name": "python",
   "nbconvert_exporter": "python",
   "pygments_lexer": "ipython3",
   "version": "3.7.5"
  }
 },
 "nbformat": 4,
 "nbformat_minor": 2
}
